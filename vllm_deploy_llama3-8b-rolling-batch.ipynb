{
 "cells": [
  {
   "cell_type": "code",
   "execution_count": 1,
   "id": "67fa3208",
   "metadata": {
    "tags": []
   },
   "outputs": [
    {
     "name": "stdout",
     "output_type": "stream",
     "text": [
      "Note: you may need to restart the kernel to use updated packages.\n"
     ]
    }
   ],
   "source": [
    "%pip install sagemaker --upgrade  --quiet"
   ]
  },
  {
   "cell_type": "code",
   "execution_count": 2,
   "id": "ec9ac353",
   "metadata": {
    "tags": []
   },
   "outputs": [
    {
     "name": "stdout",
     "output_type": "stream",
     "text": [
      "sagemaker.config INFO - Not applying SDK defaults from location: /etc/xdg/sagemaker/config.yaml\n",
      "sagemaker.config INFO - Not applying SDK defaults from location: /home/ec2-user/.config/sagemaker/config.yaml\n"
     ]
    }
   ],
   "source": [
    "import boto3\n",
    "import sagemaker\n",
    "from sagemaker import Model, image_uris, serializers, deserializers\n",
    "\n",
    "role = sagemaker.get_execution_role()  # execution role for the endpoint\n",
    "sess = sagemaker.session.Session()  # sagemaker session for interacting with different AWS APIs\n",
    "region = sess._region_name  # region name of the current SageMaker Studio environment\n",
    "account_id = sess.account_id()  # account_id of the current SageMaker Studio environment"
   ]
  },
  {
   "cell_type": "code",
   "execution_count": 11,
   "id": "2fceef7f-7e5f-42d9-8c70-3dd0ad004320",
   "metadata": {
    "tags": []
   },
   "outputs": [
    {
     "name": "stdout",
     "output_type": "stream",
     "text": [
      "                           PRE global_step12000/\n",
      "2024-06-13 15:43:11        713 config.json\n",
      "2024-06-13 15:43:11        194 generation_config.json\n",
      "2024-06-13 15:43:53         16 latest\n",
      "2024-06-13 15:43:17 4976698672 model-00001-of-00004.safetensors\n",
      "2024-06-13 15:43:23 4999802720 model-00002-of-00004.safetensors\n",
      "2024-06-13 15:43:30 4915916176 model-00003-of-00004.safetensors\n",
      "2024-06-13 15:43:31 1168138808 model-00004-of-00004.safetensors\n",
      "2024-06-13 15:43:31      23950 model.safetensors.index.json\n",
      "2024-06-13 15:43:51      15984 rng_state_0.pth\n",
      "2024-06-13 15:43:51      15984 rng_state_1.pth\n",
      "2024-06-13 15:43:51      15984 rng_state_2.pth\n",
      "2024-06-13 15:43:52      15984 rng_state_3.pth\n",
      "2024-06-13 15:43:51      15984 rng_state_4.pth\n",
      "2024-06-13 15:43:52      15984 rng_state_5.pth\n",
      "2024-06-13 15:43:52      15984 rng_state_6.pth\n",
      "2024-06-13 15:43:51      15984 rng_state_7.pth\n",
      "2024-06-13 15:43:51       1064 scheduler.pt\n",
      "2024-06-13 15:43:31        325 special_tokens_map.json\n",
      "2024-06-13 15:43:31    9085698 tokenizer.json\n",
      "2024-06-13 15:43:31      51308 tokenizer_config.json\n",
      "2024-06-13 15:43:53    2086667 trainer_state.json\n",
      "2024-06-13 15:43:31       7096 training_args.bin\n",
      "2024-06-13 15:43:48      25314 zero_to_fp32.py\n"
     ]
    }
   ],
   "source": [
    "!aws s3 ls s3://sagemaker-us-west-2-726335585155/hf_home/Meta-Llama-3-8B-Instruct-v3/checkpoint-12000/"
   ]
  },
  {
   "cell_type": "markdown",
   "id": "81deac79",
   "metadata": {},
   "source": [
    "## Step 2: Start preparing model artifacts\n",
    "In LMI contianer, we expect some artifacts to help setting up the model\n",
    "- serving.properties (required): Defines the model server settings\n",
    "- model.py (optional): A python file to define the core inference logic\n",
    "- requirements.txt (optional): Any additional pip wheel need to install"
   ]
  },
  {
   "cell_type": "code",
   "execution_count": 23,
   "id": "37254d3e-359c-4b82-9cbf-6375370fc1fb",
   "metadata": {
    "tags": []
   },
   "outputs": [
    {
     "name": "stdout",
     "output_type": "stream",
     "text": [
      "Writing serving.properties\n"
     ]
    }
   ],
   "source": [
    "%%writefile serving.properties\n",
    "engine=Python\n",
    "option.model_id= s3://sagemaker-us-west-2-726335585155/hf_home/Meta-Llama-3-8B-Instruct-v3/checkpoint-12000/\n",
    "option.dtype=fp16\n",
    "option.task=text-generation\n",
    "option.rolling_batch=vllm\n",
    "option.tensor_parallel_degree=1\n",
    "option.device_map=auto\n",
    "option.max_model_len=4096\n",
    "# max_rolling batch size\n",
    "# "
   ]
  },
  {
   "cell_type": "code",
   "execution_count": 24,
   "id": "b0142973",
   "metadata": {
    "tags": []
   },
   "outputs": [
    {
     "name": "stdout",
     "output_type": "stream",
     "text": [
      "mymodel/\n",
      "mymodel/serving.properties\n"
     ]
    }
   ],
   "source": [
    "%%sh\n",
    "mkdir mymodel\n",
    "mv serving.properties mymodel/\n",
    "tar czvf mymodel.tar.gz mymodel/\n",
    "rm -rf mymodel"
   ]
  },
  {
   "cell_type": "markdown",
   "id": "2e58cf33",
   "metadata": {},
   "source": [
    "## Step 3: Start building SageMaker endpoint\n",
    "In this step, we will build SageMaker endpoint from scratch"
   ]
  },
  {
   "cell_type": "markdown",
   "id": "4d955679",
   "metadata": {},
   "source": [
    "### Getting the container image URI\n",
    "\n",
    "[Large Model Inference available DLC](https://github.com/aws/deep-learning-containers/blob/master/available_images.md#large-model-inference-containers)\n"
   ]
  },
  {
   "cell_type": "code",
   "execution_count": 25,
   "id": "7a174b36",
   "metadata": {
    "tags": []
   },
   "outputs": [],
   "source": [
    "image_uri = image_uris.retrieve(\n",
    "        framework=\"djl-deepspeed\",\n",
    "        region=sess.boto_session.region_name,\n",
    "        version=\"0.26.0\"\n",
    "    )"
   ]
  },
  {
   "cell_type": "markdown",
   "id": "11601839",
   "metadata": {},
   "source": [
    "### Upload artifact on S3 and create SageMaker model"
   ]
  },
  {
   "cell_type": "code",
   "execution_count": 26,
   "id": "38b1e5ca",
   "metadata": {
    "tags": []
   },
   "outputs": [
    {
     "name": "stdout",
     "output_type": "stream",
     "text": [
      "S3 Code or Model tar ball uploaded to --- > s3://sagemaker-us-west-2-726335585155/yafei/llama3/mymodel.tar.gz\n"
     ]
    }
   ],
   "source": [
    "s3_code_prefix = \"yafei/llama3\"\n",
    "bucket = sess.default_bucket()  # bucket to house artifacts\n",
    "code_artifact = sess.upload_data(\"mymodel.tar.gz\", bucket, s3_code_prefix)\n",
    "print(f\"S3 Code or Model tar ball uploaded to --- > {code_artifact}\")\n",
    "\n",
    "model = Model(image_uri=image_uri, model_data=code_artifact, role=role)"
   ]
  },
  {
   "cell_type": "markdown",
   "id": "004f39f6",
   "metadata": {},
   "source": [
    "### 4.2 Create SageMaker endpoint\n",
    "\n",
    "You need to specify the instance to use and endpoint names"
   ]
  },
  {
   "cell_type": "code",
   "execution_count": null,
   "id": "8e0e61cd",
   "metadata": {
    "tags": []
   },
   "outputs": [],
   "source": [
    "instance_type = \"ml.g5.2xlarge\"\n",
    "endpoint_name = sagemaker.utils.name_from_base(\"yafei-llama3\")\n",
    "\n",
    "model.deploy(initial_instance_count=1,\n",
    "             instance_type=instance_type,\n",
    "             endpoint_name=endpoint_name,\n",
    "             container_startup_health_check_timeout=3600\n",
    "            )\n",
    "\n",
    "# our requests and responses will be in json format so we specify the serializer and the deserializer\n",
    "predictor = sagemaker.Predictor(\n",
    "    endpoint_name=endpoint_name,\n",
    "    sagemaker_session=sess,\n",
    "    serializer=serializers.JSONSerializer(),\n",
    ")"
   ]
  },
  {
   "cell_type": "markdown",
   "id": "bb63ee65",
   "metadata": {},
   "source": [
    "## Step 5: Test and benchmark the inference"
   ]
  },
  {
   "cell_type": "code",
   "execution_count": 18,
   "id": "0cffad56-449e-4b0a-be4b-b513c168c993",
   "metadata": {
    "tags": []
   },
   "outputs": [],
   "source": [
    "input_text = '''\n",
    "You are a senior cross-border e-commerce product consultant, your task is write keyword based on the title, description provided by the user, answer in format a dictionary of[keyword_type: keyword]. the input title is Cat Scat Mat Spike Anti-Cat Dog Pest Deterrent Garden Repellent Animal Scarer, input product description is Features: *Avoid cats,dogs and other animals destroyed vegetables, plants and so on. *Humane solution for keeping cats and dogs from digging. *Plastic spike will keep cats away but doesn&#39;t harm the cats. *Be networked into user-configurable sizes and lengths. *It can also be wrapped around poles or trees to stop animals from climbing. *The anti-cat mat can avoid cats, dogs and other animals from destroying vegetables and plants. * Plastic nails will keep the cat away, but will not harm the cat. * The anti-cat mat can also be wrapped around poles or trees to prevent animals from climbing. Purpose: 1. Spread around the flowerpot to prevent cats from \"invading\" 2. Spread in the flowerpot to prevent cats from digging soil It is easy to set up and can be cut into any size with scissors. You can use it wherever you want. The connection is also simple, and it can be connected horizontally and vertically. Specifications: *Material: PP *Color:Black，White *Size: about ：400x30 cm *Note: 30cm plus the ports on both sides Package Contents: 1PCS Cat Scat Mat Note: 1. The real color of the item may be slightly different from the pictures shown on website caused by many factors such as brightness of your monitor and light brightness. 2. Please allow slight manual measurement deviation for the data. , what's the keywords? Present the answer in a dictionary format, where the keys are the names inside ['Primary Keywords', 'Attribute Keywords', 'Other Keywords', 'Synonyms'] and the values are lists containing the keywords.'''"
   ]
  },
  {
   "cell_type": "code",
   "execution_count": 19,
   "id": "2bcef095",
   "metadata": {
    "tags": []
   },
   "outputs": [
    {
     "data": {
      "text/plain": [
       "'output result is {\"Primary Keywords\": [\"Cat Scat Mat\", \"Schutzkotplay Mat\"], \"Attribute Keywords\": [\"1pcs\", \"400x30 Cm\", \"Anti-Cat\", \"Animal\", \"Deterrent\", \"Dog\", \"Gardening\", \"Non-Toxic\", \"PP\", \"Protection\", \"Pest\", \"Repellent\", \"Scoat\", \"Scarer\", \" Spike\", \"White\", \"1pcs\", \"400x30 Cm\", \"Abschreckung\", \"Anti-Katze\", \"Gartenarbeit\", \"Hund\", \"PP\", \"Schutz\", \"Scarer\", \"Schwei\\\\u00dfabschreckung\", \"Spike\", \"Tier\", \"Ungiftig\", \"Verhindern\"], \"Other Keywords\": [\"Brand New\", \"Durable\", \"High Quality\", \"Useful\", \"Hohe Qualit\\\\u00e4t\", \"Langlebig\", \"Nagelneu\", \"N\\\\u00fctzlich\"], \"Synonyms\": [\"Mat\"]}'"
      ]
     },
     "execution_count": 19,
     "metadata": {},
     "output_type": "execute_result"
    }
   ],
   "source": [
    "import json\n",
    "res=predictor.predict(\n",
    "    {\"inputs\": input_text, \"parameters\": {\"max_tokens\":4096}}\n",
    ")\n",
    "response = json.loads(res)\n",
    "response['generated_text']"
   ]
  },
  {
   "cell_type": "markdown",
   "id": "e6fd3bed-62e4-4926-9af9-0482de457d59",
   "metadata": {},
   "source": [
    "## batch predict"
   ]
  },
  {
   "cell_type": "code",
   "execution_count": 20,
   "id": "1e49c4c5-5526-4b31-9bfd-608c0ffb3941",
   "metadata": {
    "tags": []
   },
   "outputs": [],
   "source": [
    "prompts=[]\n",
    "for i in range(100):\n",
    "    prompts.append(input_text)"
   ]
  },
  {
   "cell_type": "code",
   "execution_count": 21,
   "id": "5808b6ac-ac38-4ae5-8646-17de580b7b91",
   "metadata": {
    "tags": []
   },
   "outputs": [
    {
     "name": "stderr",
     "output_type": "stream",
     "text": [
      "[Parallel(n_jobs=100)]: Using backend ThreadingBackend with 100 concurrent workers.\n",
      "[Parallel(n_jobs=100)]: Done   2 out of 100 | elapsed:    6.8s remaining:  5.6min\n",
      "[Parallel(n_jobs=100)]: Done 100 out of 100 | elapsed:   45.2s finished\n"
     ]
    }
   ],
   "source": [
    "import time\n",
    "def call_endpoint(prompt):\n",
    "    input = {\"inputs\": prompt, \"parameters\": {\"max_tokens\":4096}}\n",
    "    input = json.dumps(input)\n",
    "    # start = time.time()\n",
    "\n",
    "    response = predictor.predict(\n",
    "    {\"inputs\": input_text, \"parameters\": {\"max_tokens\":4096}}\n",
    "    )\n",
    "    result = json.loads(response)['generated_text']\n",
    "    return result\n",
    "    # end = time.time()\n",
    "    # process_time=end-start\n",
    "    # print(\"process time:\"+str(int(process_time)))\n",
    "    # print(results)\n",
    "    \n",
    "    \n",
    "from joblib import Parallel, delayed\n",
    "\n",
    "\n",
    "results = Parallel(n_jobs=100, prefer='threads', verbose=1)(\n",
    "    delayed(call_endpoint)(prompt)\n",
    "    for prompt in prompts\n",
    ")   "
   ]
  },
  {
   "cell_type": "code",
   "execution_count": 22,
   "id": "4add4607-e969-420a-bd9b-30fd6bb2401f",
   "metadata": {
    "tags": []
   },
   "outputs": [
    {
     "data": {
      "text/plain": [
       "['output result is {\"Primary Keywords\": [\"Cat Scat Mat\", \"Cartoffelmatten\"], \"Attribute Keywords\": [\"2022\", \"400x30 Cm\", \"Accessories\", \"Anti-Cat\", \"Animal\", \"Anti-touch\", \"Dog\", \"Deterrent\", \"Garden\", \"Humane Solution\", \"Mat\", \"PP\", \"Pest\", \"Repellent\", \"Scat\", \"Spike\", \"Wear-resistance\", \"2022\", \"400x30 Cm\", \"Abschreckung\", \"Anti-Katze\", \"Garten\", \"Hund\", \"Kannchenlampe\", \"Matte\", \"PP\", \"Pf\\\\u00e4hle\", \"Schutz\", \"Scat\", \"Spike\", \"Tier\", \"Touch-Schutz\", \"Verschlei\\\\u00dffest\", \"Zubeh\\\\u00f6r\"], \"Other Keywords\": [\"Durable\", \"New\", \"Practical\", \"Useful\", \"Langlebig\", \"Neu\", \"N\\\\u00fctzlich\", \"Praktisch\"], \"Synonyms\": [\"Mat\"]}',\n",
       " 'output result is {\"Primary Keywords\": [\"Cat Scat Mat\", \"Welsch\\\\u00fcrze Matte\"], \"Attribute Keywords\": [\"1pcs\", \"400x30 Cm\", \"Anti-Cat\", \"Anti-Cat Dog Pest\", \"Deterrent\", \"Dog Pest\", \"Garden\", \"Humane Solution\", \"Keep Cats\", \"Keep Dogs\", \"Mat\", \"PP\", \"Parking\", \"Pest\", \"Plastic Spike\", \"Scat\", \"Spike\", \"1Stk\", \"400x30 Cm\", \"Anti-Katze\", \"Anti-Katzen-Abwehr\", \"Balken\", \"Hundesch\\\\u00e4der\", \"Kanus- Und Hunden\", \"Kunststoff-Spike\", \"Ma\\\\u00df\", \"Nebel\", \"PP\", \"Parkplatz\", \"Sch\\\\u00e4der\", \"Sch\\\\u00e4tze\", \"Spaten\", \"Versch\\\\u00fctzung\"], \"Other Keywords\": [\"Brand New\", \"High Quality\", \"Hot Sale\", \"Hei\\\\u00dfer Verkauf\", \"Hohe Qualit\\\\u00e4t\", \"Nagelneu\"], \"Synonyms\": [\"Mat\", \"Matte\"]}',\n",
       " 'output result is {\"Primary Keywords\": [\"Cat Scat Mat\", \"Hundekotmatte\", \" tapis de repelle\", \" alfombrilla anticatena\", \" Tappetino roscacatane\"], \"Attribute Keywords\": [\"1PCS\", \"400x30 Cm\", \"Anti-Cat\", \"Anti-Cat Mat\", \"Dog Pest Deterrent\", \"Deterrent\", \"Garden\", \"Humane Solution\", \"Household\", \"Indoor\", \"Kit\", \"Outdoor\", \"PP\", \"Plastic Nails\", \"Practical\", \"Repellent\", \"Replace\", \"Scat\", \"Set\", \"Spike\", \"Spike Anti-Cat\", \"1 ST\\\\u00dcCKE\", \"400x30 Hanging\\\\u00f6EM\", \"Abschreckung\", \"Anti-Katze\", \"Au\\\\u00dfenbereich\", \"Bausatz\", \"Ersetzen\", \"Garten\", \"Hundekotverhindung\", \"Im Freien\", \"L\\\\u00f6sliche L\\\\u00f6sung 400x30cm\", \"N\\\\u00e4gel Im Freien\", \"Schund\", \"Scat\", \"Set\", \"Spike\", \"Spielschutz\", \"Versch\\\\u00fctzung\", \"Zuhause\", \"Zum Verhindern\", \"Zuverl\\\\u00e4ssig\", \" 1PCS\", \" ext\\\\u00e9rieur\", \" humane\", \" kit\", \" maison\", \" plastique\", \" remplacer\", \" rep\\\\u00e9pilation\", \" Colocaci\\\\u00f3n\", \" Decoraci\\\\u00f3n\", \" Engranaje\", \" Humano\", \" Set\", \" Spike Anti-Cat\", \" antiato\", \" establero\", \" estatuilla\", \" exterior\", \" f\\\\u00e9rula\", \" hogar\", \" Animali di pada\", \" Cantiere\", \" Famiglia\", \" Giardino\", \" Guarnizione\", \" Outdoor\", \" Plastica\", \" Sostituisci\", \" Spike Anti-Cat\", \" anti-cat\", \" anti-catena\", \" protezione animale domestico\"], \"Other Keywords\": [\"Durable\", \"Plant\", \"Pflanze\", \" durable\", \" duradero\", \" animali domestici\"], \"Synonyms\": [\"Anti-Cat Mat\"]}',\n",
       " 'output result is {\"Primary Keywords\": [\"Carpet\", \"Teppich\", \" jetable\", \"bola\", \" Ename\", \" Pavimentare\"], \"Attribute Keywords\": [\"Accessories\", \"Animal\", \"Anti-Cat\", \"Assembly\", \"Bodysuit\", \"Cars\", \"Deterrent\", \"Dog\", \"Dustation\", \"Garden\", \"Insects\", \"Mat\", \"Motorcycle\", \"Pest\", \"Portable\", \"Repellent\", \"Scat\", \"Scarer\", \"Spike\", \"Tools\", \"Travel\", \"Wired\", \"Anti-Katze\", \"Autos\", \"Baugruppe\", \"Beibeh\\\\u00e4lter\", \"Bodysuit\", \"Draht\", \"Garten\", \"Imkerei\", \"Insekten\", \"Matte\", \"Motorrad\", \"Reisen\", \"Schaber\", \"Skate\", \"Spike\", \"Staubabschreckung\", \"Tier\", \"Tragbare\", \"Verzuchtung\", \"Werkzeuge\", \"Zubeh\\\\u00f6r\", \" anti-cat\", \" anti-poussi\\\\u00e8re\", \" chien\", \" mat\", \" recortoir\", \" rep\\\\u00e9pissage\", \" silencieux\", \" utile\", \"5 * 2\", \"Anti poussi\\\\u00e8re\", \"Anti-cat\", \"Armat\", \"Chien\", \"D\\\\u00e9capant58 * 6\", \"Femmes\", \"Insectes\", \"Mat\", \"Outils\", \"Petit animal\", \"Poussi\\\\u00e8re De Compagnie De Vis\", \"Scat\", \"Spirale\", \"Vis\\\\u00e9\", \"Voyage\", \" Mat\", \" Rep\\\\u00e9rentor\", \" antideslumbrante\", \" metallo\", \" strumenti\", \"Animale domestico\", \"Anti-cat\", \"Gabbia fumaria scatola delle punture\"], \"Other Keywords\": [\"Automotive\", \"Durable\", \"New\", \"Automobil\", \"Durable\", \"New\", \" nouveau\", \"Durable\", \"Pratique\", \" Nuevo\", \" duradero\"], \"Synonyms\": [\"Hands\", \"Zeiger\"]}',\n",
       " 'output result is {\"Primary Keywords\": [\"Cat Scat Mat\"], \"Attribute Keywords\": [\"Anti-Cat\", \"Cartoon\", \"Deterrent\", \"Dogs Pest\", \"Garden Repellent\", \"Humane Solution\", \"Non-Toxic\", \"Scarer\", \"Spike\", \"Wired\"], \"Other Keywords\": [\"Black\", \"White\"], \"Synonyms\": [\"Pest Deterrent\"]}',\n",
       " 'output result is {\"Primary Keywords\": [\"Cat Scat Mat\"], \"Attribute Keywords\": [\"Anti-Cat\", \"Anti-Matte\", \"Dog Pest\", \"Garden Garden\", \"Outdoor\", \"PP\", \"Repellent\", \"Scarer\", \"Scat\", \"Spike\", \"Stitch\", \"Wired\"], \"Other Keywords\": [\"New\"], \"Synonyms\": [\"Mat\"]}',\n",
       " 'output result is {\"Primary Keywords\": [\"Cat Scat Mat\", \"Bandschneid Matte\", \"Selbstkrautmatte\"], \"Attribute Keywords\": [\"Animal\", \"Anti-Cat\", \"Garden\", \"Humane Solution\", \"Non-Toxic\", \"Pest\", \"Plastic\", \"Repellent\", \"Scarer\", \"Spike\", \"Storing Vegetables\", \"Antikatur\", \"Bandschutzmittel\", \"Einpark\", \"Garten\", \"Gew\\\\u00fchshaus\", \"Knieschoner\", \"Kunststoff\", \"Pflanzgef\\\\u00e4\\\\u00df\", \"Spike\", \"Tier\", \"Ungiftig\"], \"Other Keywords\": [\"Brand New\", \"Durable\", \"High Quality\", \"Practical\", \"Useful\", \"Hohe Qualit\\\\u00e4t\", \"Langlebig\", \"Nagelneu\", \"N\\\\u00fctzlich\", \"Praktisch\"], \"Synonyms\": [\"Scarer\", \"Schaber\"]}',\n",
       " 'output result is {\"Primary Keywords\": [\"Batheoom Mat\"], \"Attribute Keywords\": [\"Anti-Cat\", \"Anti-snur\", \"Dog\", \"Deterrent\", \"Garden\", \"Insect\", \"Nozzle\", \"Scal\", \"Scarer\", \"Spike\", \"Starting\", \"WRP\"], \"Other Keywords\": [\"Prevent\"], \"Synonyms\": [\"Mat\"]}',\n",
       " 'output result is {\"Primary Keywords\": [\"Cat Scat Mat\", \"Katszenkotmatte\"], \"Attribute Keywords\": [\"Accessory\", \"Animal\", \"Anti-Cat\", \"Dog\", \"Deterrent\", \"Garden\", \"Gardening\", \"Humane Solution\", \"Keep Cats\", \"Parts\", \"Pest\", \"Repellent\", \"Replacement\", \"Scarer\", \"Spare\", \"Spike\", \"Antikatze\", \"Ersatz\", \"Ersatzteil\", \"Garten\", \"Gartenarbeit\", \"Hund\", \"Katzen Halten\", \"Sch\\\\u00e4dlings-\", \"Spike\", \"Treibstoff\", \"Unisexhalt\", \"Verhindung\", \"Zubeh\\\\u00f6r\"], \"Other Keywords\": [\"Brand New\", \"Durable\", \"High Quality\", \"Reusable\", \"Brandneu\", \"Hochwertig\", \"Langlebig\", \"Wiederverwendbar\"], \"Synonyms\": [\"Scat\", \"Matte\"]}',\n",
       " 'output result is {\"Primary Keywords\": [\"Scat Mat\", \"Schatzmatte\"], \"Attribute Keywords\": [\"1PCS\", \"400*30cm\", \"Animal Scat\", \"Anti-Cat\", \"Dog Pest\", \"Deterrent\", \"Garden Repellent\", \"Humane Solution\", \"PP\", \"Plastic Filters\", \"Safety\", \"Spike\", \"Spread\", \"1PCS\", \"400*30cm\", \"Abschreckung\", \"Anti-Katze\", \"G\\\\u00e4rtnern\", \"Hundekot\", \"Kunststofffilter\", \"PP\", \"Pfl\\\\u00fcckchenabwehr\", \"Sicherheit\", \"Sprach\", \"Tierabwehr\", \"Trenz\"], \"Other Keywords\": [\"Durable\", \"High Quality\", \"New\", \"Practical\", \"Useful\", \"Langlebig\", \"Neu\", \"N\\\\u00fctzlich\", \"Praktisch\", \"Von Hoher Qualit\\\\u00e4t\"], \"Synonyms\": [\"Park\"]}']"
      ]
     },
     "execution_count": 22,
     "metadata": {},
     "output_type": "execute_result"
    }
   ],
   "source": [
    "results[0:10]"
   ]
  },
  {
   "cell_type": "markdown",
   "id": "c1cd9042",
   "metadata": {},
   "source": [
    "## Clean up the environment"
   ]
  },
  {
   "cell_type": "code",
   "execution_count": null,
   "id": "3d674b41",
   "metadata": {},
   "outputs": [],
   "source": [
    "sess.delete_endpoint(endpoint_name)\n",
    "sess.delete_endpoint_config(endpoint_name)\n",
    "model.delete_model()"
   ]
  }
 ],
 "metadata": {
  "kernelspec": {
   "display_name": "conda_pytorch_p310",
   "language": "python",
   "name": "conda_pytorch_p310"
  },
  "language_info": {
   "codemirror_mode": {
    "name": "ipython",
    "version": 3
   },
   "file_extension": ".py",
   "mimetype": "text/x-python",
   "name": "python",
   "nbconvert_exporter": "python",
   "pygments_lexer": "ipython3",
   "version": "3.10.14"
  }
 },
 "nbformat": 4,
 "nbformat_minor": 5
}
