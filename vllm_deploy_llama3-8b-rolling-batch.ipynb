{
 "cells": [
  {
   "cell_type": "code",
   "execution_count": 1,
   "id": "67fa3208",
   "metadata": {
    "tags": []
   },
   "outputs": [
    {
     "name": "stdout",
     "output_type": "stream",
     "text": [
      "Note: you may need to restart the kernel to use updated packages.\n"
     ]
    }
   ],
   "source": [
    "%pip install sagemaker --upgrade  --quiet"
   ]
  },
  {
   "cell_type": "code",
   "execution_count": 2,
   "id": "ec9ac353",
   "metadata": {
    "tags": []
   },
   "outputs": [
    {
     "name": "stdout",
     "output_type": "stream",
     "text": [
      "sagemaker.config INFO - Not applying SDK defaults from location: /etc/xdg/sagemaker/config.yaml\n",
      "sagemaker.config INFO - Not applying SDK defaults from location: /home/ec2-user/.config/sagemaker/config.yaml\n"
     ]
    }
   ],
   "source": [
    "import boto3\n",
    "import sagemaker\n",
    "from sagemaker import Model, image_uris, serializers, deserializers\n",
    "\n",
    "role = sagemaker.get_execution_role()  # execution role for the endpoint\n",
    "sess = sagemaker.session.Session()  # sagemaker session for interacting with different AWS APIs\n",
    "region = sess._region_name  # region name of the current SageMaker Studio environment\n",
    "account_id = sess.account_id()  # account_id of the current SageMaker Studio environment"
   ]
  },
  {
   "cell_type": "code",
   "execution_count": 4,
   "id": "2fceef7f-7e5f-42d9-8c70-3dd0ad004320",
   "metadata": {
    "tags": []
   },
   "outputs": [
    {
     "name": "stdout",
     "output_type": "stream",
     "text": [
      "                           PRE .huggingface/\n",
      "                           PRE runs/\n",
      "2024-05-21 07:15:29       1519 .gitattributes\n",
      "2024-05-21 07:14:55       7801 LICENSE\n",
      "2024-06-04 08:09:49       1573 README.md\n",
      "2024-05-21 07:14:55       4696 USE_POLICY.md\n",
      "2024-06-04 08:09:49        365 all_results.json\n",
      "2024-05-21 06:30:00     112686 checklist.chk\n",
      "2024-06-04 08:09:21        728 config.json\n",
      "2024-05-21 06:30:00 16060617592 consolidated.00.pth\n",
      "2024-06-04 08:09:21        178 eval_results.json\n",
      "2024-06-04 08:09:21        194 generation_config.json\n",
      "2024-06-04 08:08:37 4976698592 model-00001-of-00004.safetensors\n",
      "2024-06-04 08:09:27 4999802616 model-00002-of-00004.safetensors\n",
      "2024-06-04 08:09:00 4915916080 model-00003-of-00004.safetensors\n",
      "2024-06-04 08:09:21 1168138808 model-00004-of-00004.safetensors\n",
      "2024-06-04 08:09:20      23950 model.safetensors.index.json\n",
      "2024-05-21 06:30:00     112686 params.json\n",
      "2024-06-04 08:09:21        325 special_tokens_map.json\n",
      "2024-06-04 08:09:20    9085698 tokenizer.json\n",
      "2024-05-21 06:30:00    2183982 tokenizer.model\n",
      "2024-06-04 08:08:37      51302 tokenizer_config.json\n",
      "2024-06-04 08:09:21        222 train_results.json\n",
      "2024-06-04 08:09:00      17947 trainer_log.jsonl\n",
      "2024-06-04 08:08:37      16124 trainer_state.json\n",
      "2024-06-04 08:08:37       6520 training_args.bin\n",
      "2024-06-04 08:08:37      22063 training_eval_loss.png\n",
      "2024-06-04 08:09:20      32850 training_loss.png\n"
     ]
    }
   ],
   "source": [
    "!aws s3 ls s3://sagemaker-us-east-1-005329598202/hf_home/Meta-Llama-3-8B-Instruct/"
   ]
  },
  {
   "cell_type": "markdown",
   "id": "81deac79",
   "metadata": {},
   "source": [
    "## Step 2: Start preparing model artifacts\n",
    "In LMI contianer, we expect some artifacts to help setting up the model\n",
    "- serving.properties (required): Defines the model server settings\n",
    "- model.py (optional): A python file to define the core inference logic\n",
    "- requirements.txt (optional): Any additional pip wheel need to install"
   ]
  },
  {
   "cell_type": "code",
   "execution_count": 6,
   "id": "37254d3e-359c-4b82-9cbf-6375370fc1fb",
   "metadata": {
    "tags": []
   },
   "outputs": [
    {
     "name": "stdout",
     "output_type": "stream",
     "text": [
      "Overwriting serving.properties\n"
     ]
    }
   ],
   "source": [
    "%%writefile serving.properties\n",
    "engine=Python\n",
    "option.model_id= s3://sagemaker-us-east-1-005329598202/hf_home/Meta-Llama-3-8B-Instruct/\n",
    "option.dtype=fp16\n",
    "option.task=text-generation\n",
    "option.rolling_batch=vllm\n",
    "option.tensor_parallel_degree=1\n",
    "option.device_map=auto\n",
    "option.max_model_len=4096\n",
    "# max_rolling batch size\n",
    "# "
   ]
  },
  {
   "cell_type": "code",
   "execution_count": 7,
   "id": "b0142973",
   "metadata": {
    "tags": []
   },
   "outputs": [
    {
     "name": "stdout",
     "output_type": "stream",
     "text": [
      "mymodel/\n",
      "mymodel/serving.properties\n"
     ]
    }
   ],
   "source": [
    "%%sh\n",
    "mkdir mymodel\n",
    "mv serving.properties mymodel/\n",
    "tar czvf mymodel.tar.gz mymodel/\n",
    "rm -rf mymodel"
   ]
  },
  {
   "cell_type": "markdown",
   "id": "2e58cf33",
   "metadata": {},
   "source": [
    "## Step 3: Start building SageMaker endpoint\n",
    "In this step, we will build SageMaker endpoint from scratch"
   ]
  },
  {
   "cell_type": "markdown",
   "id": "4d955679",
   "metadata": {},
   "source": [
    "### Getting the container image URI\n",
    "\n",
    "[Large Model Inference available DLC](https://github.com/aws/deep-learning-containers/blob/master/available_images.md#large-model-inference-containers)\n"
   ]
  },
  {
   "cell_type": "code",
   "execution_count": 8,
   "id": "7a174b36",
   "metadata": {
    "tags": []
   },
   "outputs": [],
   "source": [
    "image_uri = image_uris.retrieve(\n",
    "        framework=\"djl-deepspeed\",\n",
    "        region=sess.boto_session.region_name,\n",
    "        version=\"0.26.0\"\n",
    "    )"
   ]
  },
  {
   "cell_type": "markdown",
   "id": "11601839",
   "metadata": {},
   "source": [
    "### Upload artifact on S3 and create SageMaker model"
   ]
  },
  {
   "cell_type": "code",
   "execution_count": 9,
   "id": "38b1e5ca",
   "metadata": {
    "tags": []
   },
   "outputs": [
    {
     "name": "stdout",
     "output_type": "stream",
     "text": [
      "S3 Code or Model tar ball uploaded to --- > s3://sagemaker-us-east-1-005329598202/huabao/code/mymodel.tar.gz\n"
     ]
    }
   ],
   "source": [
    "s3_code_prefix = \"huabao/code\"\n",
    "bucket = sess.default_bucket()  # bucket to house artifacts\n",
    "code_artifact = sess.upload_data(\"mymodel.tar.gz\", bucket, s3_code_prefix)\n",
    "print(f\"S3 Code or Model tar ball uploaded to --- > {code_artifact}\")\n",
    "\n",
    "model = Model(image_uri=image_uri, model_data=code_artifact, role=role)"
   ]
  },
  {
   "cell_type": "markdown",
   "id": "004f39f6",
   "metadata": {},
   "source": [
    "### 4.2 Create SageMaker endpoint\n",
    "\n",
    "You need to specify the instance to use and endpoint names"
   ]
  },
  {
   "cell_type": "code",
   "execution_count": 11,
   "id": "8e0e61cd",
   "metadata": {
    "tags": []
   },
   "outputs": [
    {
     "name": "stdout",
     "output_type": "stream",
     "text": [
      "--------------!"
     ]
    }
   ],
   "source": [
    "instance_type = \"ml.g5.12xlarge\"\n",
    "endpoint_name = sagemaker.utils.name_from_base(\"lmi-model\")\n",
    "\n",
    "model.deploy(initial_instance_count=1,\n",
    "             instance_type=instance_type,\n",
    "             endpoint_name=endpoint_name\n",
    "            )\n",
    "\n",
    "# our requests and responses will be in json format so we specify the serializer and the deserializer\n",
    "predictor = sagemaker.Predictor(\n",
    "    endpoint_name=endpoint_name,\n",
    "    sagemaker_session=sess,\n",
    "    serializer=serializers.JSONSerializer(),\n",
    ")"
   ]
  },
  {
   "cell_type": "markdown",
   "id": "bb63ee65",
   "metadata": {},
   "source": [
    "## Step 5: Test and benchmark the inference"
   ]
  },
  {
   "cell_type": "code",
   "execution_count": 21,
   "id": "0cffad56-449e-4b0a-be4b-b513c168c993",
   "metadata": {
    "tags": []
   },
   "outputs": [],
   "source": [
    "input_text = '''\n",
    "### Instruction What is the aspect based sentiment of the following customer content? Answer in format (aspect term | aspect category | opinion term | sentiment polarity). Aspect categorys: ['Channel diversity', 'Product dimensions', 'Device noise', 'Solar panel price', 'Output charging speed', 'Package quality upon receipt', 'Output port type', 'Arrival speed', 'Heat dissipation', 'Output power', 'Signature service', 'Product weight', 'Returns and exchanges', 'Port experience', 'Brand', 'Initial impressions', 'User manual', 'Product description', 'Product performance', 'Product quality control', 'Charging', 'Price protection policy', 'Channel convenience', 'Remote control', 'Product noise', 'Product availability', 'Price fluctuation', 'Solar panel accessories', 'Ups', 'Doorstep delivery', 'Product user experience', 'Product safety', 'Lighting features', 'Customer service response time', 'Product color', 'Appearance design', 'Recommendation', 'Usage scenario', 'Self-charging speed', 'Waterproof', 'Correct delivery content and quantity', 'Battery cell chemistry', 'Accessory prices', 'App', 'Battery capacity', 'Input charging method', 'Power station quality control', 'Customer support', 'Compatibility', 'Recycling policy', 'Product value', 'Charge quality', 'Carrying case bag', 'High temperature resistance', 'Product suggestion', 'Dustproof', 'Wireless charging', 'Product failure', 'Product durability', 'Ouput power', 'Fault notification', 'Number of output ports', 'Ups function', 'Display screen', 'Self-discharge rate', 'Delivery speed', 'Reshipment', 'Solar panel usability', 'Parallel operation function', 'Product quality', 'Packing', 'Cash on delivery', 'Handle', 'Low temperature resistance', 'Product repurchase']. Customer content: ****EDIT Ecoflow offered me $100 to change this review. I told them to pound sand. Keep that in mind when considering their products****. Bought this for the simple job of backup power to my router and wireless camera base - less than 50W total. The first unit, within a few days the AC stopped output, even though it showed on. Replacement came, today, after two weeks - same issue. This really scares the hell out of me because I have another $5k in their Delta Pro and panels. Will they be reliable when needed?? So far A BIG LET DOWN ON THE RIVER 2. 👎🏽👎🏽👎🏽👎🏽\n",
    "'''"
   ]
  },
  {
   "cell_type": "code",
   "execution_count": 22,
   "id": "2bcef095",
   "metadata": {
    "tags": []
   },
   "outputs": [
    {
     "data": {
      "text/plain": [
       "\"### Answer\\n[['Ecoflow', 'Brand', 'offered me $100 to change this review', 'Negative'], ['backup power', 'Usage scenario', 'backup power to my router and wireless camera base', 'Positive'], ['AC stopped output', 'Product failure', 'AC stopped output', 'Negative'], ['Replacement', 'Product failure', 'same issue', 'Negative'], ['Delta Pro and panels', 'Product durability', 'Will they be reliable when needed??', 'Negative'], ['RIVER 2', 'Product failure', 'A BIG LET DOWN ON THE RIVER 2', 'Negative']]\""
      ]
     },
     "execution_count": 22,
     "metadata": {},
     "output_type": "execute_result"
    }
   ],
   "source": [
    "import json\n",
    "res=predictor.predict(\n",
    "    {\"inputs\": input_text, \"parameters\": {\"max_tokens\":4096}}\n",
    ")\n",
    "response = json.loads(res)\n",
    "response['generated_text']"
   ]
  },
  {
   "cell_type": "markdown",
   "id": "e6fd3bed-62e4-4926-9af9-0482de457d59",
   "metadata": {},
   "source": [
    "## batch predict"
   ]
  },
  {
   "cell_type": "code",
   "execution_count": 28,
   "id": "1e49c4c5-5526-4b31-9bfd-608c0ffb3941",
   "metadata": {
    "tags": []
   },
   "outputs": [],
   "source": [
    "prompts=[]\n",
    "for i in range(1000):\n",
    "    prompts.append(input_text)"
   ]
  },
  {
   "cell_type": "code",
   "execution_count": 35,
   "id": "5808b6ac-ac38-4ae5-8646-17de580b7b91",
   "metadata": {
    "tags": []
   },
   "outputs": [
    {
     "name": "stderr",
     "output_type": "stream",
     "text": [
      "[Parallel(n_jobs=100)]: Using backend ThreadingBackend with 100 concurrent workers.\n",
      "[Parallel(n_jobs=100)]: Done 250 tasks      | elapsed:   28.1s\n",
      "[Parallel(n_jobs=100)]: Done 600 tasks      | elapsed:  1.0min\n",
      "[Parallel(n_jobs=100)]: Done 1000 out of 1000 | elapsed:  1.6min finished\n"
     ]
    }
   ],
   "source": [
    "import time\n",
    "def call_endpoint(prompt):\n",
    "    input = {\"inputs\": prompt, \"parameters\": {\"max_tokens\":4096}}\n",
    "    input = json.dumps(input)\n",
    "    # start = time.time()\n",
    "\n",
    "    response = predictor.predict(\n",
    "    {\"inputs\": input_text, \"parameters\": {\"max_tokens\":4096}}\n",
    "    )\n",
    "    result = json.loads(response)['generated_text']\n",
    "    return result\n",
    "    # end = time.time()\n",
    "    # process_time=end-start\n",
    "    # print(\"process time:\"+str(int(process_time)))\n",
    "    # print(results)\n",
    "    \n",
    "    \n",
    "from joblib import Parallel, delayed\n",
    "\n",
    "\n",
    "results = Parallel(n_jobs=100, prefer='threads', verbose=1)(\n",
    "    delayed(call_endpoint)(prompt)\n",
    "    for prompt in prompts\n",
    ")   "
   ]
  },
  {
   "cell_type": "code",
   "execution_count": 38,
   "id": "4add4607-e969-420a-bd9b-30fd6bb2401f",
   "metadata": {
    "tags": []
   },
   "outputs": [
    {
     "data": {
      "text/plain": [
       "[\"### Answer\\n[['Ecoflow', 'Brand', 'offered me $100 to change this review', 'Negative'], ['backup power', 'Usage scenario', 'backup power to my router and wireless camera base', 'Positive'], ['AC stopped output', 'Product failure', 'AC stopped output', 'Negative'], ['Replacement', 'Product failure', 'same issue', 'Negative'], ['Delta Pro and panels', 'Product durability', 'Will they be reliable when needed??', 'Negative'], ['RIVER 2', 'Product failure', 'A BIG LET DOWN ON THE RIVER 2', 'Negative']]\",\n",
       " \"### Answer\\n[['Ecoflow', 'Brand', 'offered me $100 to change this review', 'Negative'], ['backup power', 'Usage scenario', 'backup power to my router and wireless camera base', 'Positive'], ['AC stopped output', 'Product failure', 'AC stopped output', 'Negative'], ['Replacement', 'Product failure', 'same issue', 'Negative'], ['$5k', 'Product durability', 'Will they be reliable when needed??', 'Negative'], ['RIVER 2', 'Product failure', 'A BIG LET DOWN ON THE RIVER 2', 'Negative']]\",\n",
       " \"### Answer\\n[['Ecoflow', 'Brand', 'offered me $100 to change this review', 'Negative'], ['backup power', 'Usage scenario', 'backup power to my router and wireless camera base', 'Positive'], ['AC stopped output', 'Product failure', 'AC stopped output', 'Negative'], ['Replacement', 'Product failure', 'same issue', 'Negative'], ['Delta Pro and panels', 'Product durability', 'Will they be reliable when needed??', 'Negative'], ['RIVER 2', 'Product failure', 'A BIG LET DOWN ON THE RIVER 2', 'Negative']]\",\n",
       " \"### Answer\\n[['Ecoflow', 'Brand', 'offered me $100 to change this review', 'Negative'], ['backup power', 'Usage scenario', 'backup power to my router and wireless camera base', 'Positive'], ['AC stopped output', 'Product failure', 'AC stopped output', 'Negative'], ['Replacement', 'Product failure', 'same issue', 'Negative'], ['Delta Pro and panels', 'Product durability', 'Will they be reliable when needed??', 'Negative'], ['RIVER 2', 'Product failure', 'A BIG LET DOWN ON THE RIVER 2', 'Negative']]\",\n",
       " \"[['Ecoflow', 'Brand', 'offered me $100 to change this review', 'Negative'], ['backup power', 'Usage scenario', 'backup power to my router and wireless camera base', 'Positive'], ['AC stopped output', 'Product failure', 'AC stopped output', 'Negative'], ['Replacement', 'Product failure', 'same issue', 'Negative'], ['Delta Pro and panels', 'Product durability', 'Will they be reliable when needed??', 'Negative'], ['RIVER 2', 'Product failure', 'A BIG LET DOWN ON THE RIVER 2', 'Negative']]\",\n",
       " \"### Answer\\n[['Ecoflow', 'Brand', 'offered me $100 to change this review', 'Negative'], ['backup power', 'Usage scenario', 'backup power to my router and wireless camera base', 'Positive'], ['AC stopped output', 'Product failure', 'AC stopped output', 'Negative'], ['Replacement', 'Product failure', 'same issue', 'Negative'], ['$5k in their Delta Pro and panels', 'Product durability', 'Will they be reliable when needed??', 'Negative'], ['RIVER 2', 'Product failure', 'A BIG LET DOWN ON THE RIVER 2', 'Negative']]\",\n",
       " \"### Answer\\n[['Ecoflow', 'Brand', 'offered me $100 to change this review', 'Negative'], ['backup power', 'Usage scenario', 'backup power to my router and wireless camera base', 'Positive'], ['AC stopped output', 'Product failure', 'AC stopped output', 'Negative'], ['Replacement', 'Product failure', 'same issue', 'Negative'], ['Delta Pro and panels', 'Product durability', 'Will they be reliable when needed??', 'Negative'], ['RIVER 2', 'Product failure', 'A BIG LET DOWN ON THE RIVER 2', 'Negative']]\",\n",
       " \"### Answer\\n[['Ecoflow', 'Brand', 'offered me $100 to change this review', 'Negative'], ['backup power', 'Usage scenario', 'backup power to my router and wireless camera base', 'Positive'], ['AC stopped output', 'Product failure', 'AC stopped output', 'Negative'], ['Replacement', 'Product failure', 'same issue', 'Negative'], ['Delta Pro and panels', 'Product durability', 'Will they be reliable when needed??', 'Negative'], ['RIVER 2', 'Product failure', 'A BIG LET DOWN ON THE RIVER 2', 'Negative']]\",\n",
       " \"### Answer\\n[['Ecoflow', 'Brand', 'offered me $100 to change this review', 'Negative'], ['backup power', 'Usage scenario', 'backup power to my router and wireless camera base', 'Positive'], ['AC stopped output', 'Product failure', 'AC stopped output', 'Negative'], ['Replacement', 'Product failure', 'same issue', 'Negative'], ['$5k', 'Product durability', 'Will they be reliable when needed??', 'Negative'], ['RIVER 2', 'Product failure', 'A BIG LET DOWN ON THE RIVER 2', 'Negative']]\",\n",
       " \"### Answer\\n[['Ecoflow', 'Brand', 'offered me $100 to change this review', 'Negative'], ['backup power', 'Usage scenario', 'backup power to my router and wireless camera base', 'Positive'], ['AC stopped output', 'Product failure', 'AC stopped output', 'Negative'], ['Replacement', 'Product failure', 'same issue', 'Negative'], ['Delta Pro and panels', 'Product durability', 'Will they be reliable when needed??', 'Negative'], ['RIVER 2', 'Product failure', 'A BIG LET DOWN ON THE RIVER 2', 'Negative'], ['product failure', 'Product failure', 'AC stopped output', 'Negative'], ['product failure', 'Product failure', 'same issue', 'Negative'], ['Delta Pro and panels', 'Product durability', 'Will they be reliable when needed??', 'Negative'], ['RIVER 2', 'Product failure', 'A BIG LET DOWN ON THE RIVER 2', 'Negative']]\"]"
      ]
     },
     "execution_count": 38,
     "metadata": {},
     "output_type": "execute_result"
    }
   ],
   "source": [
    "results[0:10]"
   ]
  },
  {
   "cell_type": "markdown",
   "id": "c1cd9042",
   "metadata": {},
   "source": [
    "## Clean up the environment"
   ]
  },
  {
   "cell_type": "code",
   "execution_count": null,
   "id": "3d674b41",
   "metadata": {},
   "outputs": [],
   "source": [
    "sess.delete_endpoint(endpoint_name)\n",
    "sess.delete_endpoint_config(endpoint_name)\n",
    "model.delete_model()"
   ]
  }
 ],
 "metadata": {
  "kernelspec": {
   "display_name": "conda_pytorch_p310",
   "language": "python",
   "name": "conda_pytorch_p310"
  },
  "language_info": {
   "codemirror_mode": {
    "name": "ipython",
    "version": 3
   },
   "file_extension": ".py",
   "mimetype": "text/x-python",
   "name": "python",
   "nbconvert_exporter": "python",
   "pygments_lexer": "ipython3",
   "version": "3.10.14"
  }
 },
 "nbformat": 4,
 "nbformat_minor": 5
}
